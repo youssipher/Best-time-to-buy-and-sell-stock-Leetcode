{
  "cells": [
    {
      "cell_type": "code",
      "execution_count": 1,
      "metadata": {
        "id": "De78UD_SbFC7"
      },
      "outputs": [],
      "source": [
        "import numpy as np"
      ]
    },
    {
      "cell_type": "markdown",
      "metadata": {
        "id": "ESZX1u19Sy66"
      },
      "source": [
        "# Best time to buy and sell stock (Easy)"
      ]
    },
    {
      "cell_type": "markdown",
      "metadata": {
        "id": "T5jrsCEAS8-m"
      },
      "source": [
        "### Description\n",
        "You are given an array prices where prices[i] is the price of a given stock on the ith day.\n",
        "\n",
        "You want to maximize your profit by choosing a single day to buy one stock and choosing a different day in the future to sell that stock.\n",
        "\n",
        "Return the maximum profit you can achieve from this transaction. If you cannot achieve any profit, return 0.\n",
        "##### Example:\n",
        "Input: prices = [7,1,5,3,6,4]\n",
        "\n",
        "Output: 5 \n",
        "\n",
        "Explanation: Buy on day 2 (price = 1) and sell on day 5 (price = 6), profit = 6-1 = 5.\n",
        "\n",
        "Note that buying on day 2 and selling on day 1 is not allowed because you must buy before you sell.\n"
      ]
    },
    {
      "cell_type": "markdown",
      "metadata": {
        "id": "QE3yLHMgTGrK"
      },
      "source": [
        "### Analysis"
      ]
    },
    {
      "cell_type": "markdown",
      "metadata": {
        "id": "sH3pI2lxTJYX"
      },
      "source": [
        "Suppose we are the trader. \n",
        "If we want to buy the asset, we will choose a day on which its price is minimal. This obvious fact gives us a first interesting point: on the date $i$ on which we buy the asset, $prices[i]$ is a local minimum (ie: $prices[i+1] \\geq prices[i]$ and $prices[i-1] \\geq prices[i]$).\n",
        "On the other hand and using the same idea, since we aim to sell the asset with the most profit possible, if it was purchased at the date $i$, we will $\\textbf{choose as selling date the day the stock is at its maximum (after day $i$)}$. \n",
        "\n",
        "Hence, there exists a day $i_{0}$ for which we can write:  $maxprofit = \\text{maxPriceAfterDay}i_{0} - prices[i_{0}]$ with $maxprofit$ being the best transaction's profit (ie what we are looking for) and $\\text{maxPriceAfterDay}i_{0}$ the maximum value of $prices[j]$  for  $j \\geq i$.\n",
        "\n",
        "We then only need to compare the different values of $\\text{maxPriceAfterDay}i - prices[i]$  for $i$ in range(len(prices)) and choose the maximum value.\n",
        "\n",
        "\n"
      ]
    },
    {
      "cell_type": "markdown",
      "metadata": {
        "id": "eipnWmUPa-VN"
      },
      "source": [
        "### Codes"
      ]
    },
    {
      "cell_type": "markdown",
      "metadata": {
        "id": "a7tn7trPeuY7"
      },
      "source": [
        "#### Implementation 1: non vectorialized - O(N) time, O(1) extra space \n",
        "\n",
        "Here is a first implementation of our analysis, without using numpy and vectorialization. Although the use of a for loop is slower than using a numpy function, here it is still interesting because it allows us to use only two additional variables, resulting in a constant extra space algorithm. \n"
      ]
    },
    {
      "cell_type": "code",
      "execution_count": null,
      "metadata": {
        "id": "C37bMYytSif_"
      },
      "outputs": [],
      "source": [
        "def maxProfit(prices):\n",
        "        \"\"\"\n",
        "        :type prices: List[int]\n",
        "        :rtype: int\n",
        "        \"\"\"       \n",
        "        n = len(prices)\n",
        "        maximum = prices[-1]    #maximum will store the maximal value of prices[i] for indices after i. We begin here with the end of the array, i = n-1, and will use a decreasing loop \n",
        "        maxpro = 0              #The maximum profit we will return\n",
        "        for i in range(n-1,-1,-1):\n",
        "          if maximum - prices[i] > maxpro :  #Update the profit when we find a better option\n",
        "            maxpro = maximum - prices[i]\n",
        "          if prices[i] > maximum: \n",
        "            maximum = prices[i]     #Update the current maximum when we find a larger element in the prices array\n",
        "        return maxpro"
      ]
    },
    {
      "cell_type": "markdown",
      "metadata": {
        "id": "iLLtBlwwhZK4"
      },
      "source": [
        "#### Implementation 2: using numpy functions- O(N) time, O(N) extra space\n",
        "Since for loops can be time consuming, here I present an implementation which allows us to avoid using them.\n",
        "This solution is more straighforward, but the backlash is that the moving maximum we used in the implementation 1 is now replaced by an array. While in time this solution is better, in space it is not good at all.\n",
        "\n",
        "By using numpy.maximum.accumulate() and numpy.flip(), we define an array (called \"maximum\" in the following cell) which contains for every index $i$ the maximal value of $prices[j]$ for $j \\geq i$.\n",
        "\n",
        "Since we know that there exists a day $i_{0}$ for which we can write:  $maxpro = \\text{maxPriceAfterDay}i_{0} - prices[i_{0}] = maximum[i_{0}] - prices[i_{0}]$, we just have to return the max value of the array \"maximum - prices\" "
      ]
    },
    {
      "cell_type": "code",
      "execution_count": null,
      "metadata": {
        "id": "dTeNsXtPSlYe"
      },
      "outputs": [],
      "source": [
        "def maxProfit(prices):\n",
        "      \"\"\"\n",
        "      :type prices: List[int]\n",
        "      :rtype: int\n",
        "      \"\"\"    \n",
        "      maximum = np.maximum.accumulate(np.flip(prices)) #for every i maximum[n-1-i] is the maximal value of prices[j] for j>=i\n",
        "      maximum = np.flip(maximum)                       #for every i maximum[i] is now the maximal value of prices[j] for j>=i\n",
        "      maximum = maximum - prices\n",
        "      return np.max(maximum)"
      ]
    },
    {
      "cell_type": "markdown",
      "metadata": {
        "id": "Bx2B3Sm5hokL"
      },
      "source": [
        "# Best time to buy and sell stock II (medium)"
      ]
    },
    {
      "cell_type": "markdown",
      "metadata": {
        "id": "yWTxhKJca-VP"
      },
      "source": [
        "### Description\n",
        "You are given an integer array prices where $prices[i]$ is the price of a given stock on the ith day.\n",
        "\n",
        "On each day, you may decide to buy and/or sell the stock. You can only hold at most one share of the stock at any time. However, you can buy it then immediately sell it on the same day.\n",
        "\n",
        "Find and return the maximum profit you can achieve.\n",
        "##### Example:\n",
        "Input: prices = [7,1,5,3,6,4]\n",
        "Output: 7\n",
        "Explanation: Buy on day 2 (price = 1) and sell on day 3 (price = 5), profit = 5-1 = 4.\n",
        "Then buy on day 4 (price = 3) and sell on day 5 (price = 6), profit = 6-3 = 3.\n",
        "Total profit is 4 + 3 = 7.\n",
        "\n"
      ]
    },
    {
      "cell_type": "markdown",
      "metadata": {
        "id": "iLvRrUJTa-VP"
      },
      "source": [
        "### Analysis\n",
        "Here we begin buy noticing the fact that, having bought an asset, if its price is increasing we will not sell it (the optimal time has not come yet). We will wait until the price stops increasing, and then we can sell it. \n",
        "\n",
        "Similarly, when the stock's price is decreasing, we do not want to buy it, since waiting ensures us a better price. We will wait until it stops decreasing, and then we can buy it (it stops decreasing when it has reached a local minimum) .\n",
        "This gives us the general idea of the algorithm presented in the cell below. \n",
        "\n",
        "We introduce the boolean \"purchased_stock\" which encodes the information of whether we have a stock at hand or not. "
      ]
    },
    {
      "cell_type": "markdown",
      "metadata": {
        "id": "qQMSZkoFa-VQ"
      },
      "source": [
        "### Implementation - O(n) time - O(1) space"
      ]
    },
    {
      "cell_type": "code",
      "execution_count": null,
      "metadata": {
        "id": "sNcUb-ebhuy1"
      },
      "outputs": [],
      "source": [
        "def maxProfit(prices):\n",
        "        \"\"\"\n",
        "        :type prices: List[int]\n",
        "        :rtype: int\n",
        "        \"\"\"\n",
        "        purchased_stock = False #gives us the state of the trader. True if he has purchased a stock and is looking to sell it, False otherwise. \n",
        "        max_profit = 0         #result we return\n",
        "        purchase_date = 0       #stores the purchase date of the current stock of the trader (if he has one). Helps us when we sell a stock, to update the sum of our profits\n",
        "        for i in range(len(prices)):\n",
        "          if i+1 < len(prices) and prices[i]<=prices[i+1]: # if stock's price is increasing\n",
        "            if not purchased_stock : # if the trader does not already have the stock, he has to buy it\n",
        "              purchase_date = i\n",
        "              purchased_stock = True\n",
        "          else: #stock's price has stopped growing\n",
        "            if purchased_stock: #if the trader has the stock, he needs to sell it and wait for better times to come \n",
        "              max_profit = max_profit + prices[i] - prices[purchase_date]\n",
        "              purchased_stock = False\n",
        "        return max_profit"
      ]
    },
    {
      "cell_type": "markdown",
      "metadata": {
        "id": "LRpu_JAya-VR"
      },
      "source": [
        "### Vectorialization ?\n",
        "Here my attempts of vectorialization have failed because of the many edge cases to deal with.\n",
        "\n",
        "The idea was to rethink at the problem as one that consists to find local maximums and local minimums of the array prices and store them in respective arrays localMax and localMin, with the guess that:  $maxProfit = \\sum (localMax[i] - localMin[i])$ since we only buy at local minimums and sell at local maximums (to find those local mins and max, \"argrelextrema\" from scipy.signal can be suitable). \n",
        "\n",
        "But the many different dispositions of those local maximums and minimums make the choice of the variables $i$ in the sum not easy. We can think of the case when the first element $prices[0]$ is a local maximum, being a useless local maximum (and then should not appear in the sum).\n",
        "\n",
        "Furthermore, a vectorialized implementation here will have the same backlash as the vectorialized implementation of the first problem, which is the use of O(n) space. Vectorialization is not that interesting in this case.  "
      ]
    },
    {
      "cell_type": "markdown",
      "metadata": {
        "id": "buKBc9yia-VR"
      },
      "source": [
        "# Best time to buy and sell stock III (hard)"
      ]
    },
    {
      "cell_type": "markdown",
      "metadata": {
        "id": "GIVT1ClWa-VR"
      },
      "source": [
        "### Description\n",
        "You are given an array prices where prices[i] is the price of a given stock on the ith day.\n",
        "\n",
        "Find the maximum profit you can achieve. You may complete at most two transactions.\n",
        "\n",
        "Note: You may not engage in multiple transactions simultaneously (i.e., you must sell the stock before you buy again).\n",
        "\n",
        " \n",
        "\n",
        "#### Example 1:\n",
        "\n",
        "Input: prices = [3,3,5,0,0,3,1,4]\n",
        "Output: 6\n",
        "Explanation: Buy on day 4 (price = 0) and sell on day 6 (price = 3), profit = 3-0 = 3.\n",
        "Then buy on day 7 (price = 1) and sell on day 8 (price = 4), profit = 4-1 = 3."
      ]
    },
    {
      "cell_type": "markdown",
      "metadata": {
        "id": "Loqs-Mlia-VS"
      },
      "source": [
        "### Analysis\n",
        "Suppose we have a solution and the corresponding indices in which we buy and sell:\n",
        "$(i_{0},i_{1},j_{0},j_{1})$ such that we buy the stock at $i_{0}$ and sell it at $i_{1}$, then buy it again at $j_{0}$ and sell it at $j_{1}$ (without any loose we suppose $i_{0} \\leq j_{0}$. Let's look at some of the properties of our solution.\n",
        "\n",
        "First of all, since we cannot engage in multiple transactions, the two transactions we have here do not overlap. (this gives us $i_{1} \\leq j_{0}).$\n",
        "\n",
        "Let's have a closer look to $j_{0}$ (the date at which we purchase the asset for a second time).\n",
        "\n",
        "Since the solution at hand is optimal, buying the asset at $i_{0}$ and selling it at $i_{1}$ was the best possible move before the date $j_{0}$. If this was not true, it would have been possible to find two indices $k$ and $l$ such that buying at date $k$ and selling at date $l$ rewards more than buying at $i_{0}$ and selling at $i_{1}$. \n",
        "Then, the quadruplet $(k,l,j_{0},j_{1})$ would have been a better solution than the quadruplet $(i_{0},i_{1},j_{0},j_{1})$, this is absurd given our hypothesis on $(i_{0},i_{1},j_{0},j_{1})$.\n",
        "\n",
        "We conclude that in our algorithm,we have to find the best transaction before $j_{0}$.\n",
        "\n",
        "The same point stands when we look at buying at the date $j_{0}$ and selling at the date $j_{1}$. We have to perform the best possible transaction, but in this case since we already know that we purchase at date $j_{0}$, the best transaction just consists of selling the stock when its price is the maximum of the prices after the date $j_{0}$.\n",
        "\n",
        "Then the following equation is true for the index $j_{0}$:\n",
        "\n",
        "\n",
        "result $=$ maximum_profit $=$ (profit_of_best_transaction_before$(j_{0})$) + (maximum_price_after($j_{0}$) - prices$[j_{0}])$\n",
        "\n",
        "The first term is the best transaction before $j_{0}$ and the second is the best transaction after $j_{0}$.\n",
        "\n",
        "This gives us the idea of our algorithm. Since we do not know $j_{0}$ (we only know that such $j_{0}$ exists), we will go through all the indices in the array prices, computing the best profit for a single transaction before index $i$ and adding it to the best profit for a single transaction which starts at $i$.\n",
        "\n",
        "\n",
        "To be efficient, we keep track of the best profit before index $i$ while moving in the array with the relation:\n",
        "\n",
        "best_profit_before_i+1 = max (best_profit_before_i,  price_i - minimal_price_before_i)\n",
        "since we have two options: either the best profit before i is obtained with $i_{1} < j_{0}$ (first case in the max, the sell date of the best transaction before $j_{0}$  is stricly before $j_{0}$ ) or it is obtained with $i_{1} = j_{0}$ (the sell date of the best transaction before $j_{0}$  is $j_{0}$)."
      ]
    },
    {
      "cell_type": "markdown",
      "metadata": {
        "id": "vz7EXjUXa-VS"
      },
      "source": [
        "### Implementation"
      ]
    },
    {
      "cell_type": "markdown",
      "metadata": {
        "id": "HUCJLPcBa-VS"
      },
      "source": [
        "#### Implementation 1: no vectorialization - O(N) time - O(N) space"
      ]
    },
    {
      "cell_type": "code",
      "execution_count": null,
      "metadata": {
        "id": "IhvTKy8JqZZw"
      },
      "outputs": [],
      "source": [
        "def maxProfit(prices):\n",
        "        \"\"\"\n",
        "        :type prices: List[int]\n",
        "        :rtype: int\n",
        "        \"\"\"\n",
        "        n = len(prices)\n",
        "        best_profit_previous = [0]*n     # for every i best_profit_previous[i] will be the best profit possible for a single transaction before the date i \n",
        "        minimum_previous = [0]*n         # for every i minimum_previous[i] will be the minimum price of the stock before the date i\n",
        "        maximum_after = [0]*n            # for every i maximum_after[i] will be the maximum price of the stock after the date i\n",
        "        minimum_previous[0] = prices[0]\n",
        "        best_profit_previous[0] = 0\n",
        "        maximum_after[-1] = prices[-1]\n",
        "        maxpro = 0                       #Our final result, the max profit\n",
        "        for i in range(1,n):             #filling the minimum and maximum tabs\n",
        "            minimum_previous[i] = min(minimum_previous[i-1],prices[i])\n",
        "            maximum_after[n - i -1] = max(maximum_after[n - i],prices[n - i -1])\n",
        "        for i in range(1,len(prices)):   #We try all the possible j_0 of our analysis(see the cell above), taking the maximum profit achieved\n",
        "            best_profit_previous[i] = max(best_profit_previous[i-1],prices[i] - minimum_previous[i]) #the sell date of the best single transaction is either before date i or exactly at date i\n",
        "            maxpro = max(maxpro,best_profit_previous[i] + maximum_after[i] - prices[i])\n",
        "        return maxpro"
      ]
    },
    {
      "cell_type": "markdown",
      "metadata": {
        "id": "7I9oe5aVa-VT"
      },
      "source": [
        "### Implementation 2: using numpy's functions accumulate - faster"
      ]
    },
    {
      "cell_type": "markdown",
      "metadata": {
        "id": "1cF2q415yDnH",
        "outputId": "902f5ce3-5509-492c-d1b9-a6fbe39a1e05"
      },
      "source": [
        "Unlike the second problem, the vectorialization of this one is straighforward after having written the first implementation. \n",
        "\n",
        "The idea of the algorithm is exactly the same, (while this one is much less readable) and here we end up with a solution using the same order of extra space as the previous, but faster. (I have written it while writing this notebook and it ended up beating 98% of the other python 3 solutions in time). \n",
        "\n",
        "I still use the function numpy's accumulate which here has the exact same use as the tabs \"minimum_previous\" and \"maximum after\"\n"
      ]
    },
    {
      "cell_type": "code",
      "execution_count": null,
      "metadata": {
        "id": "a3SnideYsOsu"
      },
      "outputs": [],
      "source": [
        "def maxProfit(prices):\n",
        "      \"\"\"\n",
        "      :type prices: List[int]\n",
        "      :rtype: int\n",
        "      \"\"\"\n",
        "      best_profit_previous = np.maximum.accumulate(prices - np.minimum.accumulate(prices))\n",
        "      reversed_prices = prices[::-1] #I have to reverse since accumulate does not have a parameter to tell if we what the index to be increasing or decreasing\n",
        "      best_profit_after = np.maximum.accumulate(np.maximum.accumulate(reversed_prices) - reversed_prices)[::-1]\n",
        "      return np.max(best_profit_after + best_profit_previous)"
      ]
    }
  ],
  "metadata": {
    "colab": {
      "provenance": [],
      "toc_visible": true
    },
    "kernelspec": {
      "display_name": "Python 3 (ipykernel)",
      "language": "python",
      "name": "python3"
    },
    "language_info": {
      "codemirror_mode": {
        "name": "ipython",
        "version": 3
      },
      "file_extension": ".py",
      "mimetype": "text/x-python",
      "name": "python",
      "nbconvert_exporter": "python",
      "pygments_lexer": "ipython3",
      "version": "3.9.7"
    }
  },
  "nbformat": 4,
  "nbformat_minor": 0
}